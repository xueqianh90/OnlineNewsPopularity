{
 "cells": [
  {
   "cell_type": "code",
   "execution_count": 12,
   "metadata": {},
   "outputs": [],
   "source": [
    "import numpy as np\n",
    "import pandas as pd\n",
    "import matplotlib.pyplot as plt\n",
    "import seaborn as sns\n",
    "from sklearn.decomposition import PCA\n",
    "from kneed import KneeLocator\n",
    "import time\n",
    "from sklearn.metrics import confusion_matrix\n",
    "from sklearn.metrics import accuracy_score\n",
    "from sklearn.model_selection import cross_val_score\n",
    "from sklearn.tree import DecisionTreeClassifier\n",
    "from sklearn.naive_bayes import BernoulliNB\n",
    "from sklearn.naive_bayes import GaussianNB\n",
    "from sklearn.neighbors import KNeighborsClassifier\n",
    "from sklearn.svm import LinearSVC\n",
    "from sklearn.model_selection import GridSearchCV\n",
    "from sklearn.linear_model import LogisticRegression\n",
    "from sklearn.neural_network import MLPClassifier\n",
    "from sklearn.ensemble import RandomForestClassifier\n",
    "from sklearn.ensemble import VotingClassifier"
   ]
  },
  {
   "cell_type": "markdown",
   "metadata": {},
   "source": [
    "## Import data"
   ]
  },
  {
   "cell_type": "code",
   "execution_count": 2,
   "metadata": {},
   "outputs": [],
   "source": [
    "dataset = pd.read_csv(\"Balanced_train_set.csv\")\n",
    "\n",
    "train_data = dataset.loc[:, dataset.columns != 'shares']\n",
    "train_label = dataset.loc[:, 'shares']\n",
    "\n",
    "data = dataset.loc[:, dataset.columns != 'shares'].values\n",
    "label = dataset.loc[:, 'shares'].values\n"
   ]
  },
  {
   "cell_type": "markdown",
   "metadata": {},
   "source": [
    "### PCA"
   ]
  },
  {
   "cell_type": "code",
   "execution_count": 3,
   "metadata": {
    "scrolled": true
   },
   "outputs": [
    {
     "data": {
      "image/png": "[encoded data removed]",
      "text/plain": [
       "<Figure size 432x288 with 1 Axes>"
      ]
     },
     "metadata": {
      "needs_background": "light"
     },
     "output_type": "display_data"
    }
   ],
   "source": [
    "#Fitting the PCA algorithm with our Data\n",
    "pca = PCA().fit(data)\n",
    "#Plotting the Cumulative Summation of the Explained Variance\n",
    "plt.figure()\n",
    "plt.plot(np.cumsum(pca.explained_variance_ratio_))\n",
    "plt.xlabel('Number of Components')\n",
    "plt.ylabel('Cumulative explained variance (%)') #for each component\n",
    "plt.title('OnlineNewsPopularity Dataset Explained Variance')\n",
    "plt.show()"
   ]
  },
  {
   "cell_type": "code",
   "execution_count": 4,
   "metadata": {},
   "outputs": [],
   "source": [
    "pca = PCA(n_components=30)\n",
    "principalComponents = pca.fit_transform(data)\n",
    "PCdata = pd.DataFrame(data = principalComponents,\\\n",
    "                           columns=['PC%s' %i for i in range(1,31)])"
   ]
  },
  {
   "cell_type": "markdown",
   "metadata": {},
   "source": [
    "# Train models"
   ]
  },
  {
   "cell_type": "markdown",
   "metadata": {},
   "source": [
    "### Decision Tree"
   ]
  },
  {
   "cell_type": "code",
   "execution_count": 14,
   "metadata": {},
   "outputs": [
    {
     "name": "stdout",
     "output_type": "stream",
     "text": [
      "**** After applied PCA ****\n",
      "Accuracy for Decision Tree:73.06%\n",
      "Running time:15.05\n",
      "\n",
      "**** Before applied PCA ****\n",
      "Accuracy for Decision Tree:73.35%\n",
      "Running time:14.21\n"
     ]
    }
   ],
   "source": [
    "\n",
    "def DecisionTreeModel(data, label):\n",
    "    T0 = time.time()\n",
    "    DecisionTree = DecisionTreeClassifier(random_state=0)\n",
    "    DTscore = cross_val_score(DecisionTree, data, label, cv=10).mean()\n",
    "    T1 = time.time() - T0\n",
    "    print(\"Accuracy for Decision Tree:\" + str(round(DTscore*100, 2)) + \"%\")\n",
    "    print(\"Running time:\" + str(round(T1, 2)))\n",
    "    \n",
    "print('**** After applied PCA ****')\n",
    "DecisionTreePC = DecisionTreeModel(PCdata, label)\n",
    "print('\\n**** Before applied PCA ****')\n",
    "DecisionTree = DecisionTreeModel(data, label)\n"
   ]
  },
  {
   "cell_type": "markdown",
   "metadata": {},
   "source": [
    "### Naive Bayes"
   ]
  },
  {
   "cell_type": "code",
   "execution_count": 15,
   "metadata": {
    "scrolled": true
   },
   "outputs": [
    {
     "name": "stdout",
     "output_type": "stream",
     "text": [
      "**** After applied PCA ****\n",
      "Accuracy for Gaussian Naive Bayes:43.6%\n",
      "Running time:0.7\n",
      "Accuracy for Bernoulli Naive Bayes:44.09%\n",
      "Running time:1.2\n",
      "\n",
      "**** Before applied PCA ****\n",
      "Accuracy for Gaussian Naive Bayes:42.03%\n",
      "Running time:0.97\n",
      "Accuracy for Bernoulli Naive Bayes:43.85%\n",
      "Running time:1.4\n"
     ]
    }
   ],
   "source": [
    "\n",
    "def NaiveBayesModel(data, label):\n",
    "\n",
    "    T0 = time.time()\n",
    "    Bernoulli =  BernoulliNB()\n",
    "    BernoulliScore = cross_val_score(Bernoulli, data, label, cv=10).mean()\n",
    "    T1 = time.time() - T0\n",
    "    T2 = time.time()\n",
    "    Gaussian = GaussianNB()\n",
    "    GaussianScore = cross_val_score(Gaussian, data, label, cv=10).mean()\n",
    "    T3 = time.time() - T2\n",
    "    \n",
    "    print(\"Accuracy for Gaussian Naive Bayes:\" + str(round(GaussianScore*100, 2)) + \"%\")\n",
    "    print(\"Running time:\" + str(round(T3, 2)))\n",
    "    print(\"Accuracy for Bernoulli Naive Bayes:\" + str(round(BernoulliScore*100, 2)) + \"%\")\n",
    "    print(\"Running time:\" + str(round(T1, 2)))\n",
    "\n",
    "print('**** After applied PCA ****')\n",
    "NaiveBayesPC = NaiveBayesModel(PCdata, label)\n",
    "print('\\n**** Before applied PCA ****')\n",
    "NaiveBayes = NaiveBayesModel(data, label)"
   ]
  },
  {
   "cell_type": "markdown",
   "metadata": {},
   "source": [
    "### KNN"
   ]
  },
  {
   "cell_type": "code",
   "execution_count": 19,
   "metadata": {},
   "outputs": [
    {
     "name": "stdout",
     "output_type": "stream",
     "text": [
      "KNN Accuracy and running time with different weights and Ks\n",
      "\n",
      "**** After applied PCA ****\n"
     ]
    },
    {
     "data": {
      "text/html": [
       "<div>\n",
       "<style scoped>\n",
       "    .dataframe tbody tr th:only-of-type {\n",
       "        vertical-align: middle;\n",
       "    }\n",
       "\n",
       "    .dataframe tbody tr th {\n",
       "        vertical-align: top;\n",
       "    }\n",
       "\n",
       "    .dataframe thead th {\n",
       "        text-align: right;\n",
       "    }\n",
       "</style>\n",
       "<table border=\"1\" class=\"dataframe\">\n",
       "  <thead>\n",
       "    <tr style=\"text-align: right;\">\n",
       "      <th></th>\n",
       "      <th>uniform</th>\n",
       "      <th>distance</th>\n",
       "    </tr>\n",
       "  </thead>\n",
       "  <tbody>\n",
       "    <tr>\n",
       "      <th>K = 1</th>\n",
       "      <td>[73.36%, 7.33]</td>\n",
       "      <td>[73.36%, 7.94]</td>\n",
       "    </tr>\n",
       "    <tr>\n",
       "      <th>K = 5</th>\n",
       "      <td>[55.59%, 19.98]</td>\n",
       "      <td>[70.25%, 19.65]</td>\n",
       "    </tr>\n",
       "    <tr>\n",
       "      <th>K = 10</th>\n",
       "      <td>[51.47%, 23.63]</td>\n",
       "      <td>[70.03%, 24.64]</td>\n",
       "    </tr>\n",
       "  </tbody>\n",
       "</table>\n",
       "</div>"
      ],
      "text/plain": [
       "                uniform         distance\n",
       "K = 1    [73.36%, 7.33]   [73.36%, 7.94]\n",
       "K = 5   [55.59%, 19.98]  [70.25%, 19.65]\n",
       "K = 10  [51.47%, 23.63]  [70.03%, 24.64]"
      ]
     },
     "metadata": {},
     "output_type": "display_data"
    },
    {
     "name": "stdout",
     "output_type": "stream",
     "text": [
      "\n",
      "**** Before applied PCA ****\n"
     ]
    },
    {
     "data": {
      "text/html": [
       "<div>\n",
       "<style scoped>\n",
       "    .dataframe tbody tr th:only-of-type {\n",
       "        vertical-align: middle;\n",
       "    }\n",
       "\n",
       "    .dataframe tbody tr th {\n",
       "        vertical-align: top;\n",
       "    }\n",
       "\n",
       "    .dataframe thead th {\n",
       "        text-align: right;\n",
       "    }\n",
       "</style>\n",
       "<table border=\"1\" class=\"dataframe\">\n",
       "  <thead>\n",
       "    <tr style=\"text-align: right;\">\n",
       "      <th></th>\n",
       "      <th>uniform</th>\n",
       "      <th>distance</th>\n",
       "    </tr>\n",
       "  </thead>\n",
       "  <tbody>\n",
       "    <tr>\n",
       "      <th>K = 1</th>\n",
       "      <td>[73.35%, 54.53]</td>\n",
       "      <td>[73.35%, 52.94]</td>\n",
       "    </tr>\n",
       "    <tr>\n",
       "      <th>K = 5</th>\n",
       "      <td>[56.02%, 108.65]</td>\n",
       "      <td>[70.41%, 104.11]</td>\n",
       "    </tr>\n",
       "    <tr>\n",
       "      <th>K = 10</th>\n",
       "      <td>[51.59%, 116.19]</td>\n",
       "      <td>[70.16%, 116.37]</td>\n",
       "    </tr>\n",
       "  </tbody>\n",
       "</table>\n",
       "</div>"
      ],
      "text/plain": [
       "                 uniform          distance\n",
       "K = 1    [73.35%, 54.53]   [73.35%, 52.94]\n",
       "K = 5   [56.02%, 108.65]  [70.41%, 104.11]\n",
       "K = 10  [51.59%, 116.19]  [70.16%, 116.37]"
      ]
     },
     "metadata": {},
     "output_type": "display_data"
    }
   ],
   "source": [
    "\n",
    "weights = ['uniform', 'distance']\n",
    "K = [1,5,10]\n",
    "\n",
    "def KNN_Model(data, label):\n",
    "    KNN_dict = {}\n",
    "    for k in K:\n",
    "        KNNScores = []\n",
    "        for weight in weights:\n",
    "            T0 = time.time()\n",
    "            KNN = KNeighborsClassifier(n_neighbors=k, weights=weight)\n",
    "            KNNScore = cross_val_score(KNN, data, label, cv=10).mean()\n",
    "            T1 = time.time() - T0\n",
    "            KNNScores.append([str(round(KNNScore*100, 2)) + \"%\", str(round(T1, 2))])\n",
    "        ind = str('K = ') + str(k)\n",
    "        KNN_dict[ind] = KNNScores\n",
    "    return KNN_dict\n",
    "    \n",
    "\n",
    "print('KNN Accuracy and running time with different weights and Ks')\n",
    "print('\\n**** After applied PCA ****')\n",
    "KNN_dictPC = KNN_Model(PCdata, label)\n",
    "KNN_resultPC = pd.DataFrame.from_dict(KNN_dictPC, orient='index', columns=weights)\n",
    "display(KNN_resultPC)\n",
    "print('\\n**** Before applied PCA ****')\n",
    "KNN_dict = KNN_Model(data, label)\n",
    "KNN_result = pd.DataFrame.from_dict(KNN_dict, orient='index', columns=weights)\n",
    "display(KNN_result)"
   ]
  },
  {
   "cell_type": "markdown",
   "metadata": {},
   "source": [
    "### SVM"
   ]
  },
  {
   "cell_type": "code",
   "execution_count": 20,
   "metadata": {},
   "outputs": [
    {
     "name": "stdout",
     "output_type": "stream",
     "text": [
      "**** After applied PCA ****\n",
      "Accuracy for tuned SVM: 47.57%\n",
      "Running time:446.17\n",
      "\n",
      "**** Before applied PCA ****\n",
      "Accuracy for tuned SVM: 49.26%\n",
      "Running time:599.78\n"
     ]
    },
    {
     "data": {
      "text/plain": [
       "GridSearchCV(cv=10, error_score='raise',\n",
       "       estimator=LinearSVC(C=1.0, class_weight=None, dual=True, fit_intercept=True,\n",
       "     intercept_scaling=1, loss='squared_hinge', max_iter=1000,\n",
       "     multi_class='ovr', penalty='l2', random_state=None, tol=0.005,\n",
       "     verbose=0),\n",
       "       fit_params=None, iid=True, n_jobs=1,\n",
       "       param_grid={'C': [0.01, 0.1, 1.0, 10.0, 100.0]},\n",
       "       pre_dispatch='2*n_jobs', refit=True, return_train_score='warn',\n",
       "       scoring='accuracy', verbose=0)"
      ]
     },
     "execution_count": 20,
     "metadata": {},
     "output_type": "execute_result"
    }
   ],
   "source": [
    "\n",
    "def SVM_Model(data, label):\n",
    "    T0 = time.time()\n",
    "    Grid_Dict = {\"C\": [1e-2, 1e-1,1e0, 1e1, 1e2]}\n",
    "    svc_Tuned = GridSearchCV(LinearSVC( tol = 0.005), \\\n",
    "                             cv=10,param_grid=Grid_Dict, scoring=\"accuracy\")\n",
    "    svc_Tuned.fit(data, label)\n",
    "    SVC_accuracy = LinearSVC( C=svc_Tuned.best_params_['C'], tol = 0.01)\n",
    "    SVC_Time = time.time() - T0\n",
    "    Accuracys_SVC = cross_val_score(SVC_accuracy, data, label, cv=10, scoring=\"accuracy\").mean()\n",
    "    print(\"Accuracy for tuned SVM: \" + str(round(Accuracys_SVC*100, 2)) + \"%\")\n",
    "    print(\"Running time:\" + str(round(SVC_Time, 2)))\n",
    "    return Accuracys_SVC, svc_Tuned\n",
    "    \n",
    "\n",
    "print('**** After applied PCA ****')       \n",
    "Accuracys_SVCPC, svc_TunedPC = SVM_Model(PCdata, label)\n",
    "print('\\n**** Before applied PCA ****')\n",
    "Accuracys_SVC, svc_Tuned = SVM_Model(data, label)\n",
    "\n",
    "svc_Tuned"
   ]
  },
  {
   "cell_type": "code",
   "execution_count": 21,
   "metadata": {},
   "outputs": [
    {
     "data": {
      "text/plain": [
       "GridSearchCV(cv=10, error_score='raise',\n",
       "       estimator=LinearSVC(C=1.0, class_weight=None, dual=True, fit_intercept=True,\n",
       "     intercept_scaling=1, loss='squared_hinge', max_iter=1000,\n",
       "     multi_class='ovr', penalty='l2', random_state=None, tol=0.005,\n",
       "     verbose=0),\n",
       "       fit_params=None, iid=True, n_jobs=1,\n",
       "       param_grid={'C': [0.01, 0.1, 1.0, 10.0, 100.0]},\n",
       "       pre_dispatch='2*n_jobs', refit=True, return_train_score='warn',\n",
       "       scoring='accuracy', verbose=0)"
      ]
     },
     "execution_count": 21,
     "metadata": {},
     "output_type": "execute_result"
    }
   ],
   "source": [
    "svc_Tuned"
   ]
  },
  {
   "cell_type": "markdown",
   "metadata": {},
   "source": [
    "### Logistic Regression"
   ]
  },
  {
   "cell_type": "code",
   "execution_count": 23,
   "metadata": {
    "scrolled": false
   },
   "outputs": [
    {
     "name": "stdout",
     "output_type": "stream",
     "text": [
      "Logistic Regression Accuracy with different solvers and Cs\n",
      "\n",
      "**** After applied PCA ****\n"
     ]
    },
    {
     "name": "stderr",
     "output_type": "stream",
     "text": [
      "/anaconda3/lib/python3.7/site-packages/sklearn/linear_model/sag.py:326: ConvergenceWarning: The max_iter was reached which means the coef_ did not converge\n",
      "  \"the coef_ did not converge\", ConvergenceWarning)\n"
     ]
    },
    {
     "data": {
      "text/html": [
       "<div>\n",
       "<style scoped>\n",
       "    .dataframe tbody tr th:only-of-type {\n",
       "        vertical-align: middle;\n",
       "    }\n",
       "\n",
       "    .dataframe tbody tr th {\n",
       "        vertical-align: top;\n",
       "    }\n",
       "\n",
       "    .dataframe thead th {\n",
       "        text-align: right;\n",
       "    }\n",
       "</style>\n",
       "<table border=\"1\" class=\"dataframe\">\n",
       "  <thead>\n",
       "    <tr style=\"text-align: right;\">\n",
       "      <th></th>\n",
       "      <th>newton-cg</th>\n",
       "      <th>sag</th>\n",
       "      <th>saga</th>\n",
       "      <th>lbfgs</th>\n",
       "    </tr>\n",
       "  </thead>\n",
       "  <tbody>\n",
       "    <tr>\n",
       "      <th>C = 1</th>\n",
       "      <td>[47.63%, 5.83]</td>\n",
       "      <td>[47.63%, 15.54]</td>\n",
       "      <td>[47.62%, 8.57]</td>\n",
       "      <td>[47.62%, 3.4]</td>\n",
       "    </tr>\n",
       "    <tr>\n",
       "      <th>C = 5</th>\n",
       "      <td>[47.63%, 5.91]</td>\n",
       "      <td>[47.63%, 25.53]</td>\n",
       "      <td>[47.63%, 9.27]</td>\n",
       "      <td>[47.63%, 3.43]</td>\n",
       "    </tr>\n",
       "    <tr>\n",
       "      <th>C = 10</th>\n",
       "      <td>[47.63%, 5.7]</td>\n",
       "      <td>[47.63%, 27.66]</td>\n",
       "      <td>[47.63%, 9.57]</td>\n",
       "      <td>[47.63%, 3.37]</td>\n",
       "    </tr>\n",
       "    <tr>\n",
       "      <th>C = 15</th>\n",
       "      <td>[47.63%, 5.73]</td>\n",
       "      <td>[47.63%, 28.97]</td>\n",
       "      <td>[47.63%, 9.49]</td>\n",
       "      <td>[47.63%, 3.4]</td>\n",
       "    </tr>\n",
       "    <tr>\n",
       "      <th>C = 20</th>\n",
       "      <td>[47.62%, 5.6]</td>\n",
       "      <td>[47.62%, 27.89]</td>\n",
       "      <td>[47.62%, 9.62]</td>\n",
       "      <td>[47.62%, 3.31]</td>\n",
       "    </tr>\n",
       "  </tbody>\n",
       "</table>\n",
       "</div>"
      ],
      "text/plain": [
       "             newton-cg              sag            saga           lbfgs\n",
       "C = 1   [47.63%, 5.83]  [47.63%, 15.54]  [47.62%, 8.57]   [47.62%, 3.4]\n",
       "C = 5   [47.63%, 5.91]  [47.63%, 25.53]  [47.63%, 9.27]  [47.63%, 3.43]\n",
       "C = 10   [47.63%, 5.7]  [47.63%, 27.66]  [47.63%, 9.57]  [47.63%, 3.37]\n",
       "C = 15  [47.63%, 5.73]  [47.63%, 28.97]  [47.63%, 9.49]   [47.63%, 3.4]\n",
       "C = 20   [47.62%, 5.6]  [47.62%, 27.89]  [47.62%, 9.62]  [47.62%, 3.31]"
      ]
     },
     "metadata": {},
     "output_type": "display_data"
    },
    {
     "name": "stdout",
     "output_type": "stream",
     "text": [
      "\n",
      "**** Before applied PCA ****\n"
     ]
    },
    {
     "name": "stderr",
     "output_type": "stream",
     "text": [
      "/anaconda3/lib/python3.7/site-packages/sklearn/linear_model/sag.py:326: ConvergenceWarning: The max_iter was reached which means the coef_ did not converge\n",
      "  \"the coef_ did not converge\", ConvergenceWarning)\n",
      "/anaconda3/lib/python3.7/site-packages/sklearn/linear_model/sag.py:326: ConvergenceWarning: The max_iter was reached which means the coef_ did not converge\n",
      "  \"the coef_ did not converge\", ConvergenceWarning)\n",
      "/anaconda3/lib/python3.7/site-packages/sklearn/linear_model/sag.py:326: ConvergenceWarning: The max_iter was reached which means the coef_ did not converge\n",
      "  \"the coef_ did not converge\", ConvergenceWarning)\n",
      "/anaconda3/lib/python3.7/site-packages/sklearn/linear_model/sag.py:326: ConvergenceWarning: The max_iter was reached which means the coef_ did not converge\n",
      "  \"the coef_ did not converge\", ConvergenceWarning)\n",
      "/anaconda3/lib/python3.7/site-packages/sklearn/linear_model/sag.py:326: ConvergenceWarning: The max_iter was reached which means the coef_ did not converge\n",
      "  \"the coef_ did not converge\", ConvergenceWarning)\n",
      "/anaconda3/lib/python3.7/site-packages/sklearn/linear_model/sag.py:326: ConvergenceWarning: The max_iter was reached which means the coef_ did not converge\n",
      "  \"the coef_ did not converge\", ConvergenceWarning)\n",
      "/anaconda3/lib/python3.7/site-packages/sklearn/linear_model/sag.py:326: ConvergenceWarning: The max_iter was reached which means the coef_ did not converge\n",
      "  \"the coef_ did not converge\", ConvergenceWarning)\n",
      "/anaconda3/lib/python3.7/site-packages/sklearn/linear_model/sag.py:326: ConvergenceWarning: The max_iter was reached which means the coef_ did not converge\n",
      "  \"the coef_ did not converge\", ConvergenceWarning)\n",
      "/anaconda3/lib/python3.7/site-packages/sklearn/linear_model/sag.py:326: ConvergenceWarning: The max_iter was reached which means the coef_ did not converge\n",
      "  \"the coef_ did not converge\", ConvergenceWarning)\n",
      "/anaconda3/lib/python3.7/site-packages/sklearn/linear_model/sag.py:326: ConvergenceWarning: The max_iter was reached which means the coef_ did not converge\n",
      "  \"the coef_ did not converge\", ConvergenceWarning)\n",
      "/anaconda3/lib/python3.7/site-packages/sklearn/linear_model/sag.py:326: ConvergenceWarning: The max_iter was reached which means the coef_ did not converge\n",
      "  \"the coef_ did not converge\", ConvergenceWarning)\n",
      "/anaconda3/lib/python3.7/site-packages/sklearn/linear_model/sag.py:326: ConvergenceWarning: The max_iter was reached which means the coef_ did not converge\n",
      "  \"the coef_ did not converge\", ConvergenceWarning)\n",
      "/anaconda3/lib/python3.7/site-packages/sklearn/linear_model/sag.py:326: ConvergenceWarning: The max_iter was reached which means the coef_ did not converge\n",
      "  \"the coef_ did not converge\", ConvergenceWarning)\n",
      "/anaconda3/lib/python3.7/site-packages/sklearn/linear_model/sag.py:326: ConvergenceWarning: The max_iter was reached which means the coef_ did not converge\n",
      "  \"the coef_ did not converge\", ConvergenceWarning)\n",
      "/anaconda3/lib/python3.7/site-packages/sklearn/linear_model/sag.py:326: ConvergenceWarning: The max_iter was reached which means the coef_ did not converge\n",
      "  \"the coef_ did not converge\", ConvergenceWarning)\n",
      "/anaconda3/lib/python3.7/site-packages/sklearn/linear_model/sag.py:326: ConvergenceWarning: The max_iter was reached which means the coef_ did not converge\n",
      "  \"the coef_ did not converge\", ConvergenceWarning)\n",
      "/anaconda3/lib/python3.7/site-packages/sklearn/linear_model/sag.py:326: ConvergenceWarning: The max_iter was reached which means the coef_ did not converge\n",
      "  \"the coef_ did not converge\", ConvergenceWarning)\n",
      "/anaconda3/lib/python3.7/site-packages/sklearn/linear_model/sag.py:326: ConvergenceWarning: The max_iter was reached which means the coef_ did not converge\n",
      "  \"the coef_ did not converge\", ConvergenceWarning)\n",
      "/anaconda3/lib/python3.7/site-packages/sklearn/linear_model/sag.py:326: ConvergenceWarning: The max_iter was reached which means the coef_ did not converge\n",
      "  \"the coef_ did not converge\", ConvergenceWarning)\n",
      "/anaconda3/lib/python3.7/site-packages/sklearn/linear_model/sag.py:326: ConvergenceWarning: The max_iter was reached which means the coef_ did not converge\n",
      "  \"the coef_ did not converge\", ConvergenceWarning)\n",
      "/anaconda3/lib/python3.7/site-packages/sklearn/linear_model/sag.py:326: ConvergenceWarning: The max_iter was reached which means the coef_ did not converge\n",
      "  \"the coef_ did not converge\", ConvergenceWarning)\n",
      "/anaconda3/lib/python3.7/site-packages/sklearn/linear_model/sag.py:326: ConvergenceWarning: The max_iter was reached which means the coef_ did not converge\n",
      "  \"the coef_ did not converge\", ConvergenceWarning)\n",
      "/anaconda3/lib/python3.7/site-packages/sklearn/linear_model/sag.py:326: ConvergenceWarning: The max_iter was reached which means the coef_ did not converge\n",
      "  \"the coef_ did not converge\", ConvergenceWarning)\n",
      "/anaconda3/lib/python3.7/site-packages/sklearn/linear_model/sag.py:326: ConvergenceWarning: The max_iter was reached which means the coef_ did not converge\n",
      "  \"the coef_ did not converge\", ConvergenceWarning)\n",
      "/anaconda3/lib/python3.7/site-packages/sklearn/linear_model/sag.py:326: ConvergenceWarning: The max_iter was reached which means the coef_ did not converge\n",
      "  \"the coef_ did not converge\", ConvergenceWarning)\n",
      "/anaconda3/lib/python3.7/site-packages/sklearn/linear_model/sag.py:326: ConvergenceWarning: The max_iter was reached which means the coef_ did not converge\n",
      "  \"the coef_ did not converge\", ConvergenceWarning)\n",
      "/anaconda3/lib/python3.7/site-packages/sklearn/linear_model/sag.py:326: ConvergenceWarning: The max_iter was reached which means the coef_ did not converge\n",
      "  \"the coef_ did not converge\", ConvergenceWarning)\n",
      "/anaconda3/lib/python3.7/site-packages/sklearn/linear_model/sag.py:326: ConvergenceWarning: The max_iter was reached which means the coef_ did not converge\n",
      "  \"the coef_ did not converge\", ConvergenceWarning)\n",
      "/anaconda3/lib/python3.7/site-packages/sklearn/linear_model/sag.py:326: ConvergenceWarning: The max_iter was reached which means the coef_ did not converge\n",
      "  \"the coef_ did not converge\", ConvergenceWarning)\n",
      "/anaconda3/lib/python3.7/site-packages/sklearn/linear_model/sag.py:326: ConvergenceWarning: The max_iter was reached which means the coef_ did not converge\n",
      "  \"the coef_ did not converge\", ConvergenceWarning)\n",
      "/anaconda3/lib/python3.7/site-packages/sklearn/linear_model/sag.py:326: ConvergenceWarning: The max_iter was reached which means the coef_ did not converge\n",
      "  \"the coef_ did not converge\", ConvergenceWarning)\n",
      "/anaconda3/lib/python3.7/site-packages/sklearn/linear_model/sag.py:326: ConvergenceWarning: The max_iter was reached which means the coef_ did not converge\n",
      "  \"the coef_ did not converge\", ConvergenceWarning)\n",
      "/anaconda3/lib/python3.7/site-packages/sklearn/linear_model/sag.py:326: ConvergenceWarning: The max_iter was reached which means the coef_ did not converge\n",
      "  \"the coef_ did not converge\", ConvergenceWarning)\n",
      "/anaconda3/lib/python3.7/site-packages/sklearn/linear_model/sag.py:326: ConvergenceWarning: The max_iter was reached which means the coef_ did not converge\n",
      "  \"the coef_ did not converge\", ConvergenceWarning)\n",
      "/anaconda3/lib/python3.7/site-packages/sklearn/linear_model/sag.py:326: ConvergenceWarning: The max_iter was reached which means the coef_ did not converge\n",
      "  \"the coef_ did not converge\", ConvergenceWarning)\n",
      "/anaconda3/lib/python3.7/site-packages/sklearn/linear_model/sag.py:326: ConvergenceWarning: The max_iter was reached which means the coef_ did not converge\n",
      "  \"the coef_ did not converge\", ConvergenceWarning)\n",
      "/anaconda3/lib/python3.7/site-packages/sklearn/linear_model/sag.py:326: ConvergenceWarning: The max_iter was reached which means the coef_ did not converge\n",
      "  \"the coef_ did not converge\", ConvergenceWarning)\n",
      "/anaconda3/lib/python3.7/site-packages/sklearn/linear_model/sag.py:326: ConvergenceWarning: The max_iter was reached which means the coef_ did not converge\n",
      "  \"the coef_ did not converge\", ConvergenceWarning)\n",
      "/anaconda3/lib/python3.7/site-packages/sklearn/linear_model/sag.py:326: ConvergenceWarning: The max_iter was reached which means the coef_ did not converge\n",
      "  \"the coef_ did not converge\", ConvergenceWarning)\n",
      "/anaconda3/lib/python3.7/site-packages/sklearn/linear_model/sag.py:326: ConvergenceWarning: The max_iter was reached which means the coef_ did not converge\n",
      "  \"the coef_ did not converge\", ConvergenceWarning)\n"
     ]
    },
    {
     "name": "stderr",
     "output_type": "stream",
     "text": [
      "/anaconda3/lib/python3.7/site-packages/sklearn/linear_model/sag.py:326: ConvergenceWarning: The max_iter was reached which means the coef_ did not converge\n",
      "  \"the coef_ did not converge\", ConvergenceWarning)\n",
      "/anaconda3/lib/python3.7/site-packages/sklearn/linear_model/sag.py:326: ConvergenceWarning: The max_iter was reached which means the coef_ did not converge\n",
      "  \"the coef_ did not converge\", ConvergenceWarning)\n",
      "/anaconda3/lib/python3.7/site-packages/sklearn/linear_model/sag.py:326: ConvergenceWarning: The max_iter was reached which means the coef_ did not converge\n",
      "  \"the coef_ did not converge\", ConvergenceWarning)\n",
      "/anaconda3/lib/python3.7/site-packages/sklearn/linear_model/sag.py:326: ConvergenceWarning: The max_iter was reached which means the coef_ did not converge\n",
      "  \"the coef_ did not converge\", ConvergenceWarning)\n",
      "/anaconda3/lib/python3.7/site-packages/sklearn/linear_model/sag.py:326: ConvergenceWarning: The max_iter was reached which means the coef_ did not converge\n",
      "  \"the coef_ did not converge\", ConvergenceWarning)\n",
      "/anaconda3/lib/python3.7/site-packages/sklearn/linear_model/sag.py:326: ConvergenceWarning: The max_iter was reached which means the coef_ did not converge\n",
      "  \"the coef_ did not converge\", ConvergenceWarning)\n",
      "/anaconda3/lib/python3.7/site-packages/sklearn/linear_model/sag.py:326: ConvergenceWarning: The max_iter was reached which means the coef_ did not converge\n",
      "  \"the coef_ did not converge\", ConvergenceWarning)\n",
      "/anaconda3/lib/python3.7/site-packages/sklearn/linear_model/sag.py:326: ConvergenceWarning: The max_iter was reached which means the coef_ did not converge\n",
      "  \"the coef_ did not converge\", ConvergenceWarning)\n",
      "/anaconda3/lib/python3.7/site-packages/sklearn/linear_model/sag.py:326: ConvergenceWarning: The max_iter was reached which means the coef_ did not converge\n",
      "  \"the coef_ did not converge\", ConvergenceWarning)\n",
      "/anaconda3/lib/python3.7/site-packages/sklearn/linear_model/sag.py:326: ConvergenceWarning: The max_iter was reached which means the coef_ did not converge\n",
      "  \"the coef_ did not converge\", ConvergenceWarning)\n",
      "/anaconda3/lib/python3.7/site-packages/sklearn/linear_model/sag.py:326: ConvergenceWarning: The max_iter was reached which means the coef_ did not converge\n",
      "  \"the coef_ did not converge\", ConvergenceWarning)\n",
      "/anaconda3/lib/python3.7/site-packages/sklearn/linear_model/sag.py:326: ConvergenceWarning: The max_iter was reached which means the coef_ did not converge\n",
      "  \"the coef_ did not converge\", ConvergenceWarning)\n",
      "/anaconda3/lib/python3.7/site-packages/sklearn/linear_model/sag.py:326: ConvergenceWarning: The max_iter was reached which means the coef_ did not converge\n",
      "  \"the coef_ did not converge\", ConvergenceWarning)\n",
      "/anaconda3/lib/python3.7/site-packages/sklearn/linear_model/sag.py:326: ConvergenceWarning: The max_iter was reached which means the coef_ did not converge\n",
      "  \"the coef_ did not converge\", ConvergenceWarning)\n",
      "/anaconda3/lib/python3.7/site-packages/sklearn/linear_model/sag.py:326: ConvergenceWarning: The max_iter was reached which means the coef_ did not converge\n",
      "  \"the coef_ did not converge\", ConvergenceWarning)\n",
      "/anaconda3/lib/python3.7/site-packages/sklearn/linear_model/sag.py:326: ConvergenceWarning: The max_iter was reached which means the coef_ did not converge\n",
      "  \"the coef_ did not converge\", ConvergenceWarning)\n",
      "/anaconda3/lib/python3.7/site-packages/sklearn/linear_model/sag.py:326: ConvergenceWarning: The max_iter was reached which means the coef_ did not converge\n",
      "  \"the coef_ did not converge\", ConvergenceWarning)\n",
      "/anaconda3/lib/python3.7/site-packages/sklearn/linear_model/sag.py:326: ConvergenceWarning: The max_iter was reached which means the coef_ did not converge\n",
      "  \"the coef_ did not converge\", ConvergenceWarning)\n",
      "/anaconda3/lib/python3.7/site-packages/sklearn/linear_model/sag.py:326: ConvergenceWarning: The max_iter was reached which means the coef_ did not converge\n",
      "  \"the coef_ did not converge\", ConvergenceWarning)\n",
      "/anaconda3/lib/python3.7/site-packages/sklearn/linear_model/sag.py:326: ConvergenceWarning: The max_iter was reached which means the coef_ did not converge\n",
      "  \"the coef_ did not converge\", ConvergenceWarning)\n",
      "/anaconda3/lib/python3.7/site-packages/sklearn/linear_model/sag.py:326: ConvergenceWarning: The max_iter was reached which means the coef_ did not converge\n",
      "  \"the coef_ did not converge\", ConvergenceWarning)\n",
      "/anaconda3/lib/python3.7/site-packages/sklearn/linear_model/sag.py:326: ConvergenceWarning: The max_iter was reached which means the coef_ did not converge\n",
      "  \"the coef_ did not converge\", ConvergenceWarning)\n",
      "/anaconda3/lib/python3.7/site-packages/sklearn/linear_model/sag.py:326: ConvergenceWarning: The max_iter was reached which means the coef_ did not converge\n",
      "  \"the coef_ did not converge\", ConvergenceWarning)\n",
      "/anaconda3/lib/python3.7/site-packages/sklearn/linear_model/sag.py:326: ConvergenceWarning: The max_iter was reached which means the coef_ did not converge\n",
      "  \"the coef_ did not converge\", ConvergenceWarning)\n",
      "/anaconda3/lib/python3.7/site-packages/sklearn/linear_model/sag.py:326: ConvergenceWarning: The max_iter was reached which means the coef_ did not converge\n",
      "  \"the coef_ did not converge\", ConvergenceWarning)\n",
      "/anaconda3/lib/python3.7/site-packages/sklearn/linear_model/sag.py:326: ConvergenceWarning: The max_iter was reached which means the coef_ did not converge\n",
      "  \"the coef_ did not converge\", ConvergenceWarning)\n"
     ]
    },
    {
     "data": {
      "text/html": [
       "<div>\n",
       "<style scoped>\n",
       "    .dataframe tbody tr th:only-of-type {\n",
       "        vertical-align: middle;\n",
       "    }\n",
       "\n",
       "    .dataframe tbody tr th {\n",
       "        vertical-align: top;\n",
       "    }\n",
       "\n",
       "    .dataframe thead th {\n",
       "        text-align: right;\n",
       "    }\n",
       "</style>\n",
       "<table border=\"1\" class=\"dataframe\">\n",
       "  <thead>\n",
       "    <tr style=\"text-align: right;\">\n",
       "      <th></th>\n",
       "      <th>newton-cg</th>\n",
       "      <th>sag</th>\n",
       "      <th>saga</th>\n",
       "      <th>lbfgs</th>\n",
       "    </tr>\n",
       "  </thead>\n",
       "  <tbody>\n",
       "    <tr>\n",
       "      <th>C = 1</th>\n",
       "      <td>[48.71%, 27.6]</td>\n",
       "      <td>[48.7%, 23.45]</td>\n",
       "      <td>[48.71%, 30.41]</td>\n",
       "      <td>[48.48%, 7.34]</td>\n",
       "    </tr>\n",
       "    <tr>\n",
       "      <th>C = 5</th>\n",
       "      <td>[49.1%, 46.06]</td>\n",
       "      <td>[49.09%, 31.15]</td>\n",
       "      <td>[49.1%, 53.28]</td>\n",
       "      <td>[48.48%, 7.76]</td>\n",
       "    </tr>\n",
       "    <tr>\n",
       "      <th>C = 10</th>\n",
       "      <td>[49.24%, 56.75]</td>\n",
       "      <td>[49.24%, 44.99]</td>\n",
       "      <td>[49.22%, 53.45]</td>\n",
       "      <td>[48.57%, 7.68]</td>\n",
       "    </tr>\n",
       "    <tr>\n",
       "      <th>C = 15</th>\n",
       "      <td>[49.29%, 66.59]</td>\n",
       "      <td>[49.29%, 46.85]</td>\n",
       "      <td>[49.28%, 53.66]</td>\n",
       "      <td>[48.62%, 7.64]</td>\n",
       "    </tr>\n",
       "    <tr>\n",
       "      <th>C = 20</th>\n",
       "      <td>[49.37%, 79.08]</td>\n",
       "      <td>[49.37%, 48.62]</td>\n",
       "      <td>[49.35%, 52.27]</td>\n",
       "      <td>[48.54%, 7.59]</td>\n",
       "    </tr>\n",
       "  </tbody>\n",
       "</table>\n",
       "</div>"
      ],
      "text/plain": [
       "              newton-cg              sag             saga           lbfgs\n",
       "C = 1    [48.71%, 27.6]   [48.7%, 23.45]  [48.71%, 30.41]  [48.48%, 7.34]\n",
       "C = 5    [49.1%, 46.06]  [49.09%, 31.15]   [49.1%, 53.28]  [48.48%, 7.76]\n",
       "C = 10  [49.24%, 56.75]  [49.24%, 44.99]  [49.22%, 53.45]  [48.57%, 7.68]\n",
       "C = 15  [49.29%, 66.59]  [49.29%, 46.85]  [49.28%, 53.66]  [48.62%, 7.64]\n",
       "C = 20  [49.37%, 79.08]  [49.37%, 48.62]  [49.35%, 52.27]  [48.54%, 7.59]"
      ]
     },
     "metadata": {},
     "output_type": "display_data"
    }
   ],
   "source": [
    "\n",
    "solvers = ['newton-cg', 'sag', 'saga', 'lbfgs']\n",
    "c_list = [1,5,10,15,20]\n",
    "\n",
    "def LogisticRegressionModel(PCdata, label):\n",
    "    LR_dict = {}\n",
    "    for c in c_list:\n",
    "        LR_scores = []\n",
    "        for solver in solvers:\n",
    "            T0 = time.time()\n",
    "            LR = LogisticRegression(random_state=0, solver=solver, \\\n",
    "                                    multi_class='multinomial', C=c)\n",
    "            LRScore = cross_val_score(LR, PCdata, label, cv=10).mean()\n",
    "            T1 = time.time() - T0\n",
    "            LR_scores.append([str(round(LRScore*100, 2)) + \"%\", str(round(T1, 2))])\n",
    "        ind = str('C = ') + str(c)\n",
    "        LR_dict[ind] = LR_scores\n",
    "    return LR_dict\n",
    "\n",
    "    \n",
    "print('Logistic Regression Accuracy with different solvers and Cs')\n",
    "print('\\n**** After applied PCA ****')  \n",
    "LR_dictPC = LogisticRegressionModel(PCdata, label)\n",
    "LR_resultPC = pd.DataFrame.from_dict(LR_dictPC, orient='index', columns=solvers)\n",
    "display(LR_resultPC)\n",
    "print('\\n**** Before applied PCA ****')\n",
    "LR_dict = LogisticRegressionModel(data, label)\n",
    "LR_result = pd.DataFrame.from_dict(LR_dict, orient='index', columns=solvers)\n",
    "display(LR_result)"
   ]
  },
  {
   "cell_type": "markdown",
   "metadata": {},
   "source": [
    "### Neural Network"
   ]
  },
  {
   "cell_type": "code",
   "execution_count": 5,
   "metadata": {
    "scrolled": false
   },
   "outputs": [
    {
     "name": "stdout",
     "output_type": "stream",
     "text": [
      "Neural Network scores with different hidden layer sizes\n",
      "\n",
      "**** After applied PCA ****\n"
     ]
    },
    {
     "name": "stderr",
     "output_type": "stream",
     "text": [
      "/anaconda3/lib/python3.7/site-packages/sklearn/neural_network/multilayer_perceptron.py:564: ConvergenceWarning: Stochastic Optimizer: Maximum iterations (200) reached and the optimization hasn't converged yet.\n",
      "  % self.max_iter, ConvergenceWarning)\n",
      "/anaconda3/lib/python3.7/site-packages/sklearn/neural_network/multilayer_perceptron.py:564: ConvergenceWarning: Stochastic Optimizer: Maximum iterations (200) reached and the optimization hasn't converged yet.\n",
      "  % self.max_iter, ConvergenceWarning)\n"
     ]
    },
    {
     "data": {
      "text/html": [
       "<div>\n",
       "<style scoped>\n",
       "    .dataframe tbody tr th:only-of-type {\n",
       "        vertical-align: middle;\n",
       "    }\n",
       "\n",
       "    .dataframe tbody tr th {\n",
       "        vertical-align: top;\n",
       "    }\n",
       "\n",
       "    .dataframe thead th {\n",
       "        text-align: right;\n",
       "    }\n",
       "</style>\n",
       "<table border=\"1\" class=\"dataframe\">\n",
       "  <thead>\n",
       "    <tr style=\"text-align: right;\">\n",
       "      <th></th>\n",
       "      <th>0</th>\n",
       "      <th>1</th>\n",
       "    </tr>\n",
       "  </thead>\n",
       "  <tbody>\n",
       "    <tr>\n",
       "      <th>(50, 100, 30) hidden layers</th>\n",
       "      <td>60.19%</td>\n",
       "      <td>270.36</td>\n",
       "    </tr>\n",
       "    <tr>\n",
       "      <th>(300, 50, 30) hidden layers</th>\n",
       "      <td>66.29%</td>\n",
       "      <td>273.49</td>\n",
       "    </tr>\n",
       "    <tr>\n",
       "      <th>(200, 100, 50) hidden layers</th>\n",
       "      <td>69.01%</td>\n",
       "      <td>306.01</td>\n",
       "    </tr>\n",
       "    <tr>\n",
       "      <th>(150, 100, 50) hidden layers</th>\n",
       "      <td>67.91%</td>\n",
       "      <td>322.75</td>\n",
       "    </tr>\n",
       "    <tr>\n",
       "      <th>(200, 50) hidden layers</th>\n",
       "      <td>63.09%</td>\n",
       "      <td>344.71</td>\n",
       "    </tr>\n",
       "  </tbody>\n",
       "</table>\n",
       "</div>"
      ],
      "text/plain": [
       "                                   0       1\n",
       "(50, 100, 30) hidden layers   60.19%  270.36\n",
       "(300, 50, 30) hidden layers   66.29%  273.49\n",
       "(200, 100, 50) hidden layers  69.01%  306.01\n",
       "(150, 100, 50) hidden layers  67.91%  322.75\n",
       "(200, 50) hidden layers       63.09%  344.71"
      ]
     },
     "metadata": {},
     "output_type": "display_data"
    },
    {
     "name": "stdout",
     "output_type": "stream",
     "text": [
      "\n",
      "**** Before applied PCA ****\n"
     ]
    },
    {
     "data": {
      "text/html": [
       "<div>\n",
       "<style scoped>\n",
       "    .dataframe tbody tr th:only-of-type {\n",
       "        vertical-align: middle;\n",
       "    }\n",
       "\n",
       "    .dataframe tbody tr th {\n",
       "        vertical-align: top;\n",
       "    }\n",
       "\n",
       "    .dataframe thead th {\n",
       "        text-align: right;\n",
       "    }\n",
       "</style>\n",
       "<table border=\"1\" class=\"dataframe\">\n",
       "  <thead>\n",
       "    <tr style=\"text-align: right;\">\n",
       "      <th></th>\n",
       "      <th>0</th>\n",
       "      <th>1</th>\n",
       "    </tr>\n",
       "  </thead>\n",
       "  <tbody>\n",
       "    <tr>\n",
       "      <th>(50, 100, 30) hidden layers</th>\n",
       "      <td>58.84%</td>\n",
       "      <td>379.76</td>\n",
       "    </tr>\n",
       "    <tr>\n",
       "      <th>(300, 50, 30) hidden layers</th>\n",
       "      <td>66.9%</td>\n",
       "      <td>506.89</td>\n",
       "    </tr>\n",
       "    <tr>\n",
       "      <th>(200, 100, 50) hidden layers</th>\n",
       "      <td>68.23%</td>\n",
       "      <td>393.85</td>\n",
       "    </tr>\n",
       "    <tr>\n",
       "      <th>(150, 100, 50) hidden layers</th>\n",
       "      <td>67.51%</td>\n",
       "      <td>416.05</td>\n",
       "    </tr>\n",
       "    <tr>\n",
       "      <th>(200, 50) hidden layers</th>\n",
       "      <td>61.54%</td>\n",
       "      <td>339.15</td>\n",
       "    </tr>\n",
       "  </tbody>\n",
       "</table>\n",
       "</div>"
      ],
      "text/plain": [
       "                                   0       1\n",
       "(50, 100, 30) hidden layers   58.84%  379.76\n",
       "(300, 50, 30) hidden layers    66.9%  506.89\n",
       "(200, 100, 50) hidden layers  68.23%  393.85\n",
       "(150, 100, 50) hidden layers  67.51%  416.05\n",
       "(200, 50) hidden layers       61.54%  339.15"
      ]
     },
     "metadata": {},
     "output_type": "display_data"
    }
   ],
   "source": [
    "\n",
    "hidden_layer_sizes = [(50,100,30),(300,50,30),(200,100,50),(150,100,50),(200,50)]\n",
    "\n",
    "def NeuralNetworkModel(data, label):\n",
    "    NN_dict = {}\n",
    "    \n",
    "    for layer_size in hidden_layer_sizes:\n",
    "        T0 = time.time()\n",
    "        NN = MLPClassifier(solver='adam', hidden_layer_sizes=layer_size, random_state=1)\n",
    "        NNScore = cross_val_score(NN, data, label, cv=10).mean()\n",
    "        T1 = time.time() - T0\n",
    "        NN_scores = [str(round(NNScore*100, 2)) + \"%\", str(round(T1, 2))]\n",
    "        ind = str(layer_size) + str(' hidden layers')\n",
    "        NN_dict[ind] = NN_scores\n",
    "    return NN_dict\n",
    "\n",
    "\n",
    "print('Neural Network scores with different hidden layer sizes')\n",
    "print('\\n**** After applied PCA ****') \n",
    "NN_dictPC = NeuralNetworkModel(PCdata, label)\n",
    "NN_resultPC = pd.DataFrame.from_dict(NN_dictPC, orient='index')\n",
    "display(NN_resultPC)\n",
    "print('\\n**** Before applied PCA ****')\n",
    "NN_dict = NeuralNetworkModel(data, label)\n",
    "NN_result = pd.DataFrame.from_dict(NN_dict, orient='index')\n",
    "display(NN_result)"
   ]
  },
  {
   "cell_type": "markdown",
   "metadata": {},
   "source": [
    "### Random Forest"
   ]
  },
  {
   "cell_type": "code",
   "execution_count": 6,
   "metadata": {
    "scrolled": false
   },
   "outputs": [
    {
     "name": "stderr",
     "output_type": "stream",
     "text": [
      "/anaconda3/lib/python3.7/site-packages/sklearn/ensemble/weight_boosting.py:29: DeprecationWarning: numpy.core.umath_tests is an internal NumPy module and should not be imported. It will be removed in a future NumPy release.\n",
      "  from numpy.core.umath_tests import inner1d\n"
     ]
    },
    {
     "name": "stdout",
     "output_type": "stream",
     "text": [
      "Random Forest scores with different number of trees in the forest and maximum depths of the tree\n",
      "\n",
      "**** After applied PCA ****\n"
     ]
    },
    {
     "data": {
      "text/html": [
       "<div>\n",
       "<style scoped>\n",
       "    .dataframe tbody tr th:only-of-type {\n",
       "        vertical-align: middle;\n",
       "    }\n",
       "\n",
       "    .dataframe tbody tr th {\n",
       "        vertical-align: top;\n",
       "    }\n",
       "\n",
       "    .dataframe thead th {\n",
       "        text-align: right;\n",
       "    }\n",
       "</style>\n",
       "<table border=\"1\" class=\"dataframe\">\n",
       "  <thead>\n",
       "    <tr style=\"text-align: right;\">\n",
       "      <th></th>\n",
       "      <th>5</th>\n",
       "      <th>10</th>\n",
       "      <th>15</th>\n",
       "      <th>20</th>\n",
       "      <th>25</th>\n",
       "    </tr>\n",
       "  </thead>\n",
       "  <tbody>\n",
       "    <tr>\n",
       "      <th>50 estimators</th>\n",
       "      <td>[48.59%, 32.08]</td>\n",
       "      <td>[58.96%, 54.62]</td>\n",
       "      <td>[72.55%, 73.18]</td>\n",
       "      <td>[77.15%, 84.63]</td>\n",
       "      <td>[78.19%, 89.84]</td>\n",
       "    </tr>\n",
       "    <tr>\n",
       "      <th>100 estimators</th>\n",
       "      <td>[48.54%, 61.41]</td>\n",
       "      <td>[59.19%, 108.99]</td>\n",
       "      <td>[73.11%, 147.87]</td>\n",
       "      <td>[77.71%, 160.5]</td>\n",
       "      <td>[78.72%, 167.96]</td>\n",
       "    </tr>\n",
       "    <tr>\n",
       "      <th>150 estimators</th>\n",
       "      <td>[48.42%, 88.88]</td>\n",
       "      <td>[59.24%, 157.7]</td>\n",
       "      <td>[73.34%, 210.18]</td>\n",
       "      <td>[77.95%, 240.16]</td>\n",
       "      <td>[79.0%, 251.89]</td>\n",
       "    </tr>\n",
       "  </tbody>\n",
       "</table>\n",
       "</div>"
      ],
      "text/plain": [
       "                             5                 10                15  \\\n",
       "50 estimators   [48.59%, 32.08]   [58.96%, 54.62]   [72.55%, 73.18]   \n",
       "100 estimators  [48.54%, 61.41]  [59.19%, 108.99]  [73.11%, 147.87]   \n",
       "150 estimators  [48.42%, 88.88]   [59.24%, 157.7]  [73.34%, 210.18]   \n",
       "\n",
       "                              20                25  \n",
       "50 estimators    [77.15%, 84.63]   [78.19%, 89.84]  \n",
       "100 estimators   [77.71%, 160.5]  [78.72%, 167.96]  \n",
       "150 estimators  [77.95%, 240.16]   [79.0%, 251.89]  "
      ]
     },
     "metadata": {},
     "output_type": "display_data"
    },
    {
     "name": "stdout",
     "output_type": "stream",
     "text": [
      "\n",
      "**** Before applied PCA ****\n"
     ]
    },
    {
     "data": {
      "text/html": [
       "<div>\n",
       "<style scoped>\n",
       "    .dataframe tbody tr th:only-of-type {\n",
       "        vertical-align: middle;\n",
       "    }\n",
       "\n",
       "    .dataframe tbody tr th {\n",
       "        vertical-align: top;\n",
       "    }\n",
       "\n",
       "    .dataframe thead th {\n",
       "        text-align: right;\n",
       "    }\n",
       "</style>\n",
       "<table border=\"1\" class=\"dataframe\">\n",
       "  <thead>\n",
       "    <tr style=\"text-align: right;\">\n",
       "      <th></th>\n",
       "      <th>5</th>\n",
       "      <th>10</th>\n",
       "      <th>15</th>\n",
       "      <th>20</th>\n",
       "      <th>25</th>\n",
       "    </tr>\n",
       "  </thead>\n",
       "  <tbody>\n",
       "    <tr>\n",
       "      <th>50 estimators</th>\n",
       "      <td>[50.09%, 21.06]</td>\n",
       "      <td>[60.78%, 36.47]</td>\n",
       "      <td>[75.07%, 49.44]</td>\n",
       "      <td>[78.65%, 56.66]</td>\n",
       "      <td>[79.61%, 58.94]</td>\n",
       "    </tr>\n",
       "    <tr>\n",
       "      <th>100 estimators</th>\n",
       "      <td>[50.22%, 40.77]</td>\n",
       "      <td>[61.27%, 71.57]</td>\n",
       "      <td>[75.49%, 97.58]</td>\n",
       "      <td>[79.22%, 114.87]</td>\n",
       "      <td>[80.26%, 116.42]</td>\n",
       "    </tr>\n",
       "    <tr>\n",
       "      <th>150 estimators</th>\n",
       "      <td>[50.24%, 61.26]</td>\n",
       "      <td>[61.52%, 108.66]</td>\n",
       "      <td>[75.93%, 146.48]</td>\n",
       "      <td>[79.69%, 167.89]</td>\n",
       "      <td>[80.52%, 174.12]</td>\n",
       "    </tr>\n",
       "  </tbody>\n",
       "</table>\n",
       "</div>"
      ],
      "text/plain": [
       "                             5                 10                15  \\\n",
       "50 estimators   [50.09%, 21.06]   [60.78%, 36.47]   [75.07%, 49.44]   \n",
       "100 estimators  [50.22%, 40.77]   [61.27%, 71.57]   [75.49%, 97.58]   \n",
       "150 estimators  [50.24%, 61.26]  [61.52%, 108.66]  [75.93%, 146.48]   \n",
       "\n",
       "                              20                25  \n",
       "50 estimators    [78.65%, 56.66]   [79.61%, 58.94]  \n",
       "100 estimators  [79.22%, 114.87]  [80.26%, 116.42]  \n",
       "150 estimators  [79.69%, 167.89]  [80.52%, 174.12]  "
      ]
     },
     "metadata": {},
     "output_type": "display_data"
    }
   ],
   "source": [
    "\n",
    "def RandomForestModel(PCdata, label):\n",
    "    RF_dict = {}\n",
    "    for n_estimator in range(50, 151, 50):\n",
    "        RF_scores = []\n",
    "        for maxDepth in range(5,26,5):\n",
    "            T0 = time.time()\n",
    "            RandomForest = RandomForestClassifier(n_estimators=n_estimator,\\\n",
    "                                          max_depth=maxDepth,random_state=0)\n",
    "            RFScore = cross_val_score(RandomForest, PCdata, label, cv=10).mean()\n",
    "\n",
    "            T1 = time.time() - T0\n",
    "            RF_scores.append([str(round(RFScore*100, 2)) + \"%\", str(round(T1, 2))])\n",
    "        ind = str(n_estimator) + str(' estimators')\n",
    "        RF_dict[ind] = RF_scores\n",
    "    return RF_dict\n",
    "\n",
    "print('Random Forest scores with different number of trees in the forest',\\\n",
    "      'and maximum depths of the tree')\n",
    "print('\\n**** After applied PCA ****') \n",
    "RF_dictPA = RandomForestModel(PCdata, label)\n",
    "RF_resultPA = pd.DataFrame.from_dict(RF_dictPA, orient='index', columns=[5,10,15,20,25])\n",
    "display(RF_resultPA)\n",
    "print('\\n**** Before applied PCA ****')\n",
    "RF_dict = RandomForestModel(data, label)\n",
    "RF_result = pd.DataFrame.from_dict(RF_dict, orient='index', columns=[5,10,15,20,25])\n",
    "display(RF_result)"
   ]
  },
  {
   "cell_type": "markdown",
   "metadata": {},
   "source": [
    "## Import test dataset"
   ]
  },
  {
   "cell_type": "code",
   "execution_count": 9,
   "metadata": {},
   "outputs": [],
   "source": [
    "test_dataset = pd.read_csv(\"train_set.csv\")\n",
    "test_X = test_dataset.loc[:, test_dataset.columns != 'shares']\n",
    "test_Y = test_dataset.loc[:, 'shares'].values\n",
    "\n",
    "\n",
    "PCtest = pca.fit_transform(test_X)\n",
    "PCtest_data = pd.DataFrame(data = PCtest,\\\n",
    "                           columns=['PC%s' %i for i in range(1,31)])"
   ]
  },
  {
   "cell_type": "code",
   "execution_count": 25,
   "metadata": {},
   "outputs": [],
   "source": [
    "def Model_Test(train_X, label, test_X, test_Y, model):\n",
    "    T0 = time.time()\n",
    "    model_chosen = model\n",
    "    model_chosen.fit(train_X, label)\n",
    "    y_pred = model_chosen.predict(train_X)\n",
    "    train_score = accuracy_score(label, y_pred)\n",
    "    \n",
    "    print('\\nTraining Accuracy: '+ str(round(train_score*100, 2)) + \"%\")\n",
    "    \n",
    "    # Get the confusion matrix of training set\n",
    "\n",
    "\n",
    "    confusion_matrix_train = confusion_matrix(label, y_pred, \\\n",
    "                                              labels=['Low Popularity', \\\n",
    "                                                      'Intermediate Popularity', \\\n",
    "                                                      'High Popularity'])\n",
    "    print('Train Confusion Matrix')\n",
    "    print(confusion_matrix_train)\n",
    "    \n",
    "    T1 = time.time() - T0\n",
    "    print(\"\\nRunning time is: \" + str(round(T1, 2)))\n",
    "\n",
    "\n",
    "    # Get test accuracy\n",
    "    y_pred_test = model_chosen.predict(test_X)\n",
    "    test_score = accuracy_score(test_Y, y_pred_test)\n",
    "    print('\\nTesting Accuracy: '+ str(round(test_score*100, 2)) + \"%\")\n",
    "\n",
    "    confusion_matrix_test = confusion_matrix(test_Y, y_pred_test, \\\n",
    "                                              labels=['Low Popularity', \\\n",
    "                                                      'Intermediate Popularity', \\\n",
    "                                                      'High Popularity'])\n",
    "    print('Test Confusion Matrix')\n",
    "    print(confusion_matrix_test)"
   ]
  },
  {
   "cell_type": "markdown",
   "metadata": {},
   "source": [
    "## Max Voting"
   ]
  },
  {
   "cell_type": "code",
   "execution_count": 26,
   "metadata": {},
   "outputs": [
    {
     "name": "stdout",
     "output_type": "stream",
     "text": [
      "\n",
      "Training Accuracy:43.87%\n",
      "Train Confusion Matrix\n",
      "[[9107 2635 1972]\n",
      " [5959 4697 3058]\n",
      " [5321 4147 4246]]\n",
      "\n",
      "Running time is:0.23\n",
      "\n",
      "Testing Accuracy:45.38%\n",
      "Test Confusion Matrix\n",
      "[[7742 2265 1743]\n",
      " [5959 4697 3058]\n",
      " [2420 1879 1952]]\n"
     ]
    }
   ],
   "source": [
    "NB = BernoulliNB()\n",
    "KNNTest = Model_Test(data, label, test_X, test_Y, NB)"
   ]
  },
  {
   "cell_type": "code",
   "execution_count": 27,
   "metadata": {},
   "outputs": [
    {
     "name": "stdout",
     "output_type": "stream",
     "text": [
      "\n",
      "Training Accuracy:100.0%\n",
      "Train Confusion Matrix\n",
      "[[13714     0     0]\n",
      " [    0 13714     0]\n",
      " [    0     0 13714]]\n",
      "\n",
      "Running time is:8.87\n",
      "\n",
      "Testing Accuracy:91.24%\n",
      "Test Confusion Matrix\n",
      "[[ 9492  1722   536]\n",
      " [    0 13714     0]\n",
      " [  153   367  5731]]\n"
     ]
    }
   ],
   "source": [
    "KNN = KNeighborsClassifier(n_neighbors=1)\n",
    "KNNTest = Model_Test(data, label, test_X, test_Y, KNN)"
   ]
  },
  {
   "cell_type": "code",
   "execution_count": 28,
   "metadata": {},
   "outputs": [
    {
     "name": "stdout",
     "output_type": "stream",
     "text": [
      "\n",
      "Training Accuracy:49.23%\n",
      "Train Confusion Matrix\n",
      "[[8976 2276 2462]\n",
      " [5141 4158 4415]\n",
      " [3590 3005 7119]]\n",
      "\n",
      "Running time is:6.09\n",
      "\n",
      "Testing Accuracy:47.53%\n",
      "Test Confusion Matrix\n",
      "[[7674 1944 2132]\n",
      " [5141 4158 4415]\n",
      " [1653 1357 3241]]\n"
     ]
    }
   ],
   "source": [
    "SVM = LinearSVC( C=1, tol = 0.005)\n",
    "SVMTest = Model_Test(data, label, test_X, test_Y, SVM)"
   ]
  },
  {
   "cell_type": "code",
   "execution_count": 29,
   "metadata": {},
   "outputs": [
    {
     "name": "stdout",
     "output_type": "stream",
     "text": [
      "\n",
      "Training Accuracy:48.81%\n",
      "Train Confusion Matrix\n",
      "[[8522 2820 2372]\n",
      " [4754 4882 4078]\n",
      " [3344 3694 6676]]\n",
      "\n",
      "Running time is:1.01\n",
      "\n",
      "Testing Accuracy:47.96%\n",
      "Test Confusion Matrix\n",
      "[[7297 2394 2059]\n",
      " [4754 4882 4078]\n",
      " [1548 1673 3030]]\n"
     ]
    }
   ],
   "source": [
    "LR = LogisticRegression(random_state=0, solver='lbfgs', multi_class='multinomial', C=15)\n",
    "LRTest = Model_Test(data, label, test_X, test_Y, LR)"
   ]
  },
  {
   "cell_type": "code",
   "execution_count": 30,
   "metadata": {},
   "outputs": [
    {
     "name": "stdout",
     "output_type": "stream",
     "text": [
      "\n",
      "Training Accuracy:92.0%\n",
      "Train Confusion Matrix\n",
      "[[12304  1224   186]\n",
      " [  980 12144   590]\n",
      " [   57   256 13401]]\n",
      "\n",
      "Running time is:69.46\n",
      "\n",
      "Testing Accuracy:82.33%\n",
      "Test Confusion Matrix\n",
      "[[ 8391  2572   787]\n",
      " [  980 12144   590]\n",
      " [  176   500  5575]]\n"
     ]
    }
   ],
   "source": [
    "NN = MLPClassifier(solver='adam', hidden_layer_sizes=(200, 100, 50), random_state=1)\n",
    "NNTest = Model_Test(data, label, test_X, test_Y, NN)\n"
   ]
  },
  {
   "cell_type": "code",
   "execution_count": 31,
   "metadata": {},
   "outputs": [
    {
     "name": "stdout",
     "output_type": "stream",
     "text": [
      "\n",
      "Training Accuracy:99.99%\n",
      "Train Confusion Matrix\n",
      "[[13714     0     0]\n",
      " [    4 13710     0]\n",
      " [    1     0 13713]]\n",
      "\n",
      "Running time is:14.79\n",
      "\n",
      "Testing Accuracy:91.81%\n",
      "Test Confusion Matrix\n",
      "[[ 9711  1806   233]\n",
      " [    4 13710     0]\n",
      " [   91   464  5696]]\n"
     ]
    }
   ],
   "source": [
    "RF = RandomForestClassifier(n_estimators=100,max_depth=25,random_state=0)\n",
    "RFTest = Model_Test(data, label, test_X, test_Y, RF)\n"
   ]
  },
  {
   "cell_type": "code",
   "execution_count": 32,
   "metadata": {},
   "outputs": [
    {
     "name": "stdout",
     "output_type": "stream",
     "text": [
      "\n",
      "Training Accuracy:100.0%\n",
      "Train Confusion Matrix\n",
      "[[13714     0     0]\n",
      " [    0 13714     0]\n",
      " [    0     0 13714]]\n",
      "\n",
      "Running time is:1.69\n",
      "\n",
      "Testing Accuracy:91.31%\n",
      "Test Confusion Matrix\n",
      "[[ 9488  1693   569]\n",
      " [    0 13714     0]\n",
      " [  155   338  5758]]\n"
     ]
    }
   ],
   "source": [
    "DT = DecisionTreeClassifier(random_state=0)\n",
    "DTTest = Model_Test(data, label, test_X, test_Y, DT)"
   ]
  },
  {
   "cell_type": "code",
   "execution_count": 39,
   "metadata": {},
   "outputs": [
    {
     "name": "stderr",
     "output_type": "stream",
     "text": [
      "/anaconda3/lib/python3.7/site-packages/sklearn/preprocessing/label.py:151: DeprecationWarning: The truth value of an empty array is ambiguous. Returning False, but in future this will result in an error. Use `array.size > 0` to check that an array is not empty.\n",
      "  if diff:\n"
     ]
    },
    {
     "name": "stdout",
     "output_type": "stream",
     "text": [
      "Accuracy with max voting algorithm: 92.09%\n",
      "Test Confusion Matrix\n",
      "[[ 9741  1628   381]\n",
      " [    0 13714     0]\n",
      " [  130   370  5751]]\n"
     ]
    },
    {
     "name": "stderr",
     "output_type": "stream",
     "text": [
      "/anaconda3/lib/python3.7/site-packages/sklearn/preprocessing/label.py:151: DeprecationWarning: The truth value of an empty array is ambiguous. Returning False, but in future this will result in an error. Use `array.size > 0` to check that an array is not empty.\n",
      "  if diff:\n"
     ]
    }
   ],
   "source": [
    "model = VotingClassifier(estimators=[('rf', RF), ('knn', KNN), ('nn', NN),\\\n",
    "                                     ('dt', DT), ('nb', NB), \\\n",
    "                                     ('lr', LR)], voting='soft')\n",
    "model.fit(data, label)\n",
    "pred_test = model.predict(test_X)\n",
    "max_voting_score = model.score(test_X, test_Y)\n",
    "print(\"Accuracy with max voting algorithm: \" + str(round(max_voting_score*100, 2)) + \"%\")\n",
    "confusion_matrix_test = confusion_matrix(test_Y, pred_test, \\\n",
    "                                         labels=['Low Popularity', \\\n",
    "                                                 'Intermediate Popularity', \\\n",
    "                                                 'High Popularity'])\n",
    "print('Test Confusion Matrix')\n",
    "print(confusion_matrix_test)"
   ]
  },
  {
   "cell_type": "code",
   "execution_count": null,
   "metadata": {},
   "outputs": [],
   "source": []
  }
 ],
 "metadata": {
  "kernelspec": {
   "display_name": "Python 3",
   "language": "python",
   "name": "python3"
  },
  "language_info": {
   "codemirror_mode": {
    "name": "ipython",
    "version": 3
   },
   "file_extension": ".py",
   "mimetype": "text/x-python",
   "name": "python",
   "nbconvert_exporter": "python",
   "pygments_lexer": "ipython3",
   "version": "3.7.0"
  }
 },
 "nbformat": 4,
 "nbformat_minor": 2
}
